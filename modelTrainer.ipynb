{
 "cells": [
  {
   "cell_type": "code",
   "execution_count": 12,
   "metadata": {},
   "outputs": [],
   "source": [
    "# imports necessary.\n",
    "import numpy as np\n",
    "from sklearn.model_selection import train_test_split\n",
    "from keras.utils import np_utils, print_summary\n",
    "from keras.models import Sequential\n",
    "from keras.layers import Conv2D, Activation, MaxPooling2D, Dense, Flatten, Dropout\n",
    "import pickle\n",
    "import matplotlib.pyplot as plt"
   ]
  },
  {
   "cell_type": "code",
   "execution_count": 13,
   "metadata": {},
   "outputs": [],
   "source": [
    "# method to read from the pickle the processed data\n",
    "def loadData():\n",
    "    with open(\"x\", \"rb\") as f:\n",
    "        images = np.array(pickle.load(f))\n",
    "    with open(\"y\", \"rb\") as f:\n",
    "        classes = np.array(pickle.load(f))\n",
    "    return images, classes"
   ]
  },
  {
   "cell_type": "code",
   "execution_count": 14,
   "metadata": {},
   "outputs": [],
   "source": [
    "# method to build the cnn model with differenet layers.\n",
    "def cnnModel():\n",
    "    numClasses = 5\n",
    "    \n",
    "    # The Sequential model is a linear stack of layers. so you can add the layers one by one.\n",
    "    model = Sequential()\n",
    "    \n",
    "    # The model needs to know what input shape it should expect. For this reason, the first layer in a Sequential \n",
    "    # model needs to receive information about its input shape. \n",
    "    # parameters in order [filters, kernel_size, input_shape, activation function.\n",
    "    # pool_size is the size of the max pooling windows. strides is the factor by which to downscale.\n",
    "    model.add(Conv2D(filters = 32, kernel_size = (5, 5), input_shape = (28, 28, 1), padding = 'same', activation = 'relu'))\n",
    "    model.add(Conv2D(filters = 64, kernel_size = (5, 5), padding = 'same', activation = 'relu'))   \n",
    "    model.add(MaxPooling2D(pool_size = (2, 2), strides = (2, 2), padding='same'))\n",
    "    \n",
    "    model.add(Conv2D(filters = 64, kernel_size = (3, 3), padding = 'same', activation = 'relu'))\n",
    "    model.add(Conv2D(filters = 128, kernel_size = (3, 3), padding = 'same', activation = 'relu'))\n",
    "    model.add(MaxPooling2D(pool_size = (2, 2), strides = (2, 2), padding='same'))\n",
    "    \n",
    "    model.add(Flatten())\n",
    "    model.add(Dense(512, activation = 'relu'))\n",
    "    model.add(Dropout(0.5))\n",
    "    model.add(Dense(128, activation = 'relu'))\n",
    "    model.add(Dropout(0.5))\n",
    "    model.add(Dense(64, activation = 'relu'))\n",
    "    model.add(Dropout(0.5))\n",
    "    model.add(Dense(numClasses, activation = 'softmax'))\n",
    "\n",
    "    model.compile(loss='categorical_crossentropy', optimizer='adam', metrics=['accuracy','mae'])\n",
    "    filepath = \"QuickDraw.h5\"\n",
    "\n",
    "    return model"
   ]
  },
  {
   "cell_type": "code",
   "execution_count": 15,
   "metadata": {},
   "outputs": [
    {
     "name": "stdout",
     "output_type": "stream",
     "text": [
      "Model: \"sequential_3\"\n",
      "_________________________________________________________________\n",
      "Layer (type)                 Output Shape              Param #   \n",
      "=================================================================\n",
      "conv2d_9 (Conv2D)            (None, 28, 28, 32)        832       \n",
      "_________________________________________________________________\n",
      "conv2d_10 (Conv2D)           (None, 28, 28, 64)        51264     \n",
      "_________________________________________________________________\n",
      "max_pooling2d_5 (MaxPooling2 (None, 14, 14, 64)        0         \n",
      "_________________________________________________________________\n",
      "conv2d_11 (Conv2D)           (None, 14, 14, 64)        36928     \n",
      "_________________________________________________________________\n",
      "conv2d_12 (Conv2D)           (None, 14, 14, 128)       73856     \n",
      "_________________________________________________________________\n",
      "max_pooling2d_6 (MaxPooling2 (None, 7, 7, 128)         0         \n",
      "_________________________________________________________________\n",
      "flatten_3 (Flatten)          (None, 6272)              0         \n",
      "_________________________________________________________________\n",
      "dense_9 (Dense)              (None, 512)               3211776   \n",
      "_________________________________________________________________\n",
      "dropout_7 (Dropout)          (None, 512)               0         \n",
      "_________________________________________________________________\n",
      "dense_10 (Dense)             (None, 128)               65664     \n",
      "_________________________________________________________________\n",
      "dropout_8 (Dropout)          (None, 128)               0         \n",
      "_________________________________________________________________\n",
      "dense_11 (Dense)             (None, 64)                8256      \n",
      "_________________________________________________________________\n",
      "dropout_9 (Dropout)          (None, 64)                0         \n",
      "_________________________________________________________________\n",
      "dense_12 (Dense)             (None, 5)                 325       \n",
      "=================================================================\n",
      "Total params: 3,448,901\n",
      "Trainable params: 3,448,901\n",
      "Non-trainable params: 0\n",
      "_________________________________________________________________\n",
      "Fitting the model\n",
      "Train on 49999 samples, validate on 5556 samples\n",
      "Epoch 1/5\n",
      "49999/49999 [==============================] - 251s 5ms/step - loss: 0.2988 - accuracy: 0.9047 - mae: 0.0577 - val_loss: 0.1140 - val_accuracy: 0.9672 - val_mae: 0.0231\n",
      "Epoch 2/5\n",
      "49999/49999 [==============================] - 284s 6ms/step - loss: 0.1203 - accuracy: 0.9679 - mae: 0.0215 - val_loss: 0.0775 - val_accuracy: 0.9782 - val_mae: 0.0118\n",
      "Epoch 3/5\n",
      "49999/49999 [==============================] - 354s 7ms/step - loss: 0.0933 - accuracy: 0.9737 - mae: 0.0168 - val_loss: 0.0791 - val_accuracy: 0.9773 - val_mae: 0.0121\n",
      "Epoch 4/5\n",
      "49999/49999 [==============================] - 408s 8ms/step - loss: 0.0799 - accuracy: 0.9776 - mae: 0.0143 - val_loss: 0.0714 - val_accuracy: 0.9797 - val_mae: 0.0117\n",
      "Epoch 5/5\n",
      "49999/49999 [==============================] - 389s 8ms/step - loss: 0.0647 - accuracy: 0.9817 - mae: 0.0117 - val_loss: 0.0769 - val_accuracy: 0.9789 - val_mae: 0.0113\n"
     ]
    }
   ],
   "source": [
    "# read the data \n",
    "images, classes = loadData()\n",
    "# eg. consider an array of {1,2,3,4,2}\n",
    "# output will be \n",
    "# array([[ 0.,  1.,  0., 0., 0.],\n",
    "#       [ 0.,  0.,  1., 0., 0.],\n",
    "#       [ 0.,  0.,  0., 1., 0.],\n",
    "#       [ 0.,  0.,  0., 0., 1.],\n",
    "#       [ 0.,  0.,  1., 0., 0.]])\n",
    "classes = np_utils.to_categorical(classes)\n",
    "\n",
    "# split data for training and testing\n",
    "train_x, test_x, train_y, test_y = train_test_split(images, classes, random_state=42, test_size=0.1)\n",
    "# reshape from (30000,784) to (30000, 28, 28, 1), the 1 signifies that the images are grayscale.\n",
    "train_x = train_x.reshape(train_x.shape[0], 28, 28, 1)\n",
    "test_x = test_x.reshape(test_x.shape[0], 28, 28, 1)\n",
    "\n",
    "# create the cnn model with different layers\n",
    "model = cnnModel()\n",
    "\n",
    "# print the cnn model information\n",
    "print_summary(model)\n",
    "print(\"Fitting the model\")\n",
    "\n",
    "# fit the test data  \n",
    "# The no of examples from the training dataset used in the estimate of the error gradient is called the batch size\n",
    "# epochs is the no of iterations through the whole x, y to train the model.\n",
    "model.fit(train_x, train_y, validation_data=(test_x, test_y), epochs=5, batch_size=100)\n",
    "\n",
    "# this is to save the model and then use it later to predict.\n",
    "model.save('QuickDraw.h5')"
   ]
  },
  {
   "cell_type": "code",
   "execution_count": 16,
   "metadata": {},
   "outputs": [
    {
     "name": "stdout",
     "output_type": "stream",
     "text": [
      "Stored 'test_x' (ndarray)\n",
      "Stored 'test_y' (ndarray)\n"
     ]
    }
   ],
   "source": [
    "# store the variables, across notebooks.\n",
    "%store test_x\n",
    "%store test_y"
   ]
  },
  {
   "cell_type": "code",
   "execution_count": null,
   "metadata": {},
   "outputs": [],
   "source": []
  }
 ],
 "metadata": {
  "kernelspec": {
   "display_name": "Python 3",
   "language": "python",
   "name": "python3"
  },
  "language_info": {
   "codemirror_mode": {
    "name": "ipython",
    "version": 3
   },
   "file_extension": ".py",
   "mimetype": "text/x-python",
   "name": "python",
   "nbconvert_exporter": "python",
   "pygments_lexer": "ipython3",
   "version": "3.7.3"
  }
 },
 "nbformat": 4,
 "nbformat_minor": 2
}
