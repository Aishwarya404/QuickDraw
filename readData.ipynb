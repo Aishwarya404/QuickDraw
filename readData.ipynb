{
 "cells": [
  {
   "cell_type": "code",
   "execution_count": 1,
   "metadata": {},
   "outputs": [],
   "source": [
    "# imports required.\n",
    "import os\n",
    "import numpy as np\n",
    "import pickle\n",
    "from sklearn.utils import shuffle\n",
    "import matplotlib.pyplot as plt\n",
    "import random\n",
    "%matplotlib inline"
   ]
  },
  {
   "cell_type": "code",
   "execution_count": 2,
   "metadata": {},
   "outputs": [],
   "source": [
    "# read and print the files in the data directory.\n",
    "def readFiles():\n",
    "    files = os.listdir(\"./data\")\n",
    "    print(\"Data files are:\", files)\n",
    "    return files"
   ]
  },
  {
   "cell_type": "code",
   "execution_count": 3,
   "metadata": {},
   "outputs": [],
   "source": [
    "# this method loads data in each file, and normalizes all values by dividing it by 255 (all in decimal now), \n",
    "# we are taking only the first 11111 records for each image object and putting the x of all images into one array.\n",
    "# the y takes values 0, 1, 2 and so on.\n",
    "def readModifyData(files):\n",
    "    counter = 0\n",
    "    x = []\n",
    "    y = []\n",
    "    for file in files:\n",
    "        file = \"./data/\" + file\n",
    "        xFile = np.load(file).astype('float32') / 255\n",
    "        xFile = xFile[0:11111]\n",
    "        x.append(xFile)\n",
    "        yFile = [counter] * 11111\n",
    "        yFile = np.array(yFile).astype('float32')\n",
    "        yFile = yFile.reshape(yFile.shape[0], 1)\n",
    "        y.append(yFile)\n",
    "        counter += 1\n",
    "        \n",
    "    return x, y\n",
    "\n",
    "# file = \"./data/full_numpy_bitmap_ant.npy\"\n",
    "# x = np.load(file)\n",
    "# x = x[0:1, :]\n",
    "# print(x)\n",
    "# x = x.astype('float32') / 255\n",
    "# print(x)"
   ]
  },
  {
   "cell_type": "code",
   "execution_count": 4,
   "metadata": {},
   "outputs": [],
   "source": [
    "# method to randomly show one object from each class.\n",
    "def viewImages(x, y):\n",
    "    objects = ['ant','clock','eye','banana','door']\n",
    "    randomEntries = [10000, 20000, 30000, 40000, 50000]\n",
    "    for item in randomEntries:\n",
    "        print(\"Class:\", y[item])\n",
    "        plt.title(objects[int(y[item])])\n",
    "        plt.imshow(x[item].reshape(28,28), plt.get_cmap('Greys'))\n",
    "        plt.show()"
   ]
  },
  {
   "cell_type": "code",
   "execution_count": 5,
   "metadata": {},
   "outputs": [],
   "source": [
    "# method to process x, y into 2D array of all rows of all objects and shuffle them up.\n",
    "def processXY(x, y):    \n",
    "    x = np.array(x).astype('float32')\n",
    "    y = np.array(y).astype('float32')\n",
    "    print(x.shape)\n",
    "    print(y.shape)\n",
    "    \n",
    "    x = x.reshape(x.shape[0] * x.shape[1], x.shape[2])\n",
    "    y = y.reshape(y.shape[0] * y.shape[1], y.shape[2])\n",
    "    print(x.shape)\n",
    "    print(y.shape)\n",
    "    \n",
    "    viewImages(x, y)\n",
    "    x, y = shuffle(x, y)\n",
    "    return x, y"
   ]
  },
  {
   "cell_type": "code",
   "execution_count": 6,
   "metadata": {},
   "outputs": [],
   "source": [
    "# pickle is the process of converting a Python object into a byte stream to store it in a file. Here we are opening \n",
    "# the file x and y in write bytes mode. \n",
    "def pickleXY(x, y):\n",
    "    with open(\"x\", \"wb\") as f:\n",
    "        pickle.dump(x, f, protocol=4)\n",
    "    with open(\"y\", \"wb\") as f:\n",
    "        pickle.dump(y, f, protocol=4)"
   ]
  },
  {
   "cell_type": "code",
   "execution_count": 7,
   "metadata": {},
   "outputs": [],
   "source": [
    "# main method to call other methods.\n",
    "def main():\n",
    "    files = readFiles()\n",
    "    x, y =  readModifyData(files)\n",
    "    x, y = processXY(x, y)\n",
    "    pickleXY(x, y)"
   ]
  },
  {
   "cell_type": "code",
   "execution_count": 8,
   "metadata": {},
   "outputs": [
    {
     "name": "stdout",
     "output_type": "stream",
     "text": [
      "Data files are: ['full_numpy_bitmap_ant.npy', 'full_numpy_bitmap_clock.npy', 'full_numpy_bitmap_eye.npy', 'full_numpy_bitmap_banana.npy', 'full_numpy_bitmap_door.npy']\n",
      "(5, 11111, 784)\n",
      "(5, 11111, 1)\n",
      "(55555, 784)\n",
      "(55555, 1)\n",
      "Class: [0.]\n"
     ]
    },
    {
     "data": {
      "image/png": "[encoded data removed]",
      "text/plain": [
       "<Figure size 432x288 with 1 Axes>"
      ]
     },
     "metadata": {
      "needs_background": "light"
     },
     "output_type": "display_data"
    },
    {
     "name": "stdout",
     "output_type": "stream",
     "text": [
      "Class: [1.]\n"
     ]
    },
    {
     "data": {
      "image/png": "[encoded data removed]",
      "text/plain": [
       "<Figure size 432x288 with 1 Axes>"
      ]
     },
     "metadata": {
      "needs_background": "light"
     },
     "output_type": "display_data"
    },
    {
     "name": "stdout",
     "output_type": "stream",
     "text": [
      "Class: [2.]\n"
     ]
    },
    {
     "data": {
      "image/png": "[encoded data removed]",
      "text/plain": [
       "<Figure size 432x288 with 1 Axes>"
      ]
     },
     "metadata": {
      "needs_background": "light"
     },
     "output_type": "display_data"
    },
    {
     "name": "stdout",
     "output_type": "stream",
     "text": [
      "Class: [3.]\n"
     ]
    },
    {
     "data": {
      "image/png": "[encoded data removed]",
      "text/plain": [
       "<Figure size 432x288 with 1 Axes>"
      ]
     },
     "metadata": {
      "needs_background": "light"
     },
     "output_type": "display_data"
    },
    {
     "name": "stdout",
     "output_type": "stream",
     "text": [
      "Class: [4.]\n"
     ]
    },
    {
     "data": {
      "image/png": "[encoded data removed]",
      "text/plain": [
       "<Figure size 432x288 with 1 Axes>"
      ]
     },
     "metadata": {
      "needs_background": "light"
     },
     "output_type": "display_data"
    }
   ],
   "source": [
    "main()"
   ]
  },
  {
   "cell_type": "code",
   "execution_count": null,
   "metadata": {},
   "outputs": [],
   "source": []
  }
 ],
 "metadata": {
  "kernelspec": {
   "display_name": "Python 3",
   "language": "python",
   "name": "python3"
  },
  "language_info": {
   "codemirror_mode": {
    "name": "ipython",
    "version": 3
   },
   "file_extension": ".py",
   "mimetype": "text/x-python",
   "name": "python",
   "nbconvert_exporter": "python",
   "pygments_lexer": "ipython3",
   "version": "3.7.3"
  }
 },
 "nbformat": 4,
 "nbformat_minor": 2
}
